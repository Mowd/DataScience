{
  "cells": [
    {
      "metadata": {
        "_cell_guid": "b4e472be-c89a-c9c9-4611-c8ea2692d68d",
        "_uuid": "63be9ea4d550578034334a63311ccfc55c7be2e3"
      },
      "cell_type": "markdown",
      "source": "Exploratory data analysis & model fit & predict"
    },
    {
      "metadata": {
        "_cell_guid": "cfdaacbc-23a3-423d-8d4d-120939ac7383",
        "_uuid": "7b69da68f607bb7e660db1b977ffd96c70ca8650",
        "trusted": false,
        "collapsed": true
      },
      "cell_type": "code",
      "source": "\n\n# pandas\nimport pandas as pd\nfrom pandas import Series,DataFrame\n\n# numpy, matplotlib, seaborn\nimport numpy as np\nimport matplotlib.pyplot as plt\nimport seaborn as sns\nsns.set_style('whitegrid')\n%matplotlib inline\n\n# machine learning\nfrom sklearn.linear_model import LogisticRegression\nfrom sklearn.svm import SVC, LinearSVC\nfrom sklearn.ensemble import RandomForestClassifier\nfrom sklearn.ensemble import GradientBoostingClassifier\nfrom sklearn.ensemble import ExtraTreesClassifier\nfrom sklearn.ensemble import AdaBoostClassifier\nfrom sklearn.neighbors import KNeighborsClassifier\nfrom sklearn.naive_bayes import GaussianNB\nimport sklearn",
      "execution_count": null,
      "outputs": []
    },
    {
      "metadata": {
        "_cell_guid": "3ab4c525-a5cb-4183-9468-c1dd005c4c78",
        "_uuid": "a89f001ab4f43898fab8cb0c954863c1c1e574ab",
        "trusted": false,
        "collapsed": true
      },
      "cell_type": "code",
      "source": "# get titanic & test csv files as a DataFrame\ntitanic_df = pd.read_csv(\"../input/train.csv\")\ntest_df    = pd.read_csv(\"../input/test.csv\")\n\n# preview the data\ntitanic_df.head()",
      "execution_count": null,
      "outputs": []
    },
    {
      "metadata": {
        "_cell_guid": "86179af8-3cb4-4661-84ea-addd2c7679d4",
        "_uuid": "86ae8f1169fc6f4577ef88fcd9cc59577fad0d4f",
        "trusted": false,
        "collapsed": true
      },
      "cell_type": "code",
      "source": "titanic_df.info()\nprint(\"----------------------------\")\ntest_df.info()",
      "execution_count": null,
      "outputs": []
    },
    {
      "metadata": {
        "_cell_guid": "5314c5c8-7f65-e8c5-6b6f-7b8541762129",
        "_uuid": "ad90f0c322a1218cc503c0fecf129acee4770888",
        "trusted": false,
        "collapsed": true
      },
      "cell_type": "code",
      "source": "def get_title(name):\n    if '.' in name:\n        return name.split(',')[1].split('.')[0].strip()\n    else:\n        return 'Unknown'\n\ndef title_map(title):\n    if title in ['Mr']:\n        return 1\n    elif title in ['Master']:\n        return 3\n    elif title in ['Ms','Mlle','Miss']:\n        return 4\n    elif title in ['Mme','Mrs']:\n        return 5\n    else:\n        return 2\n    \ntitanic_df['title'] = titanic_df['Name'].apply(get_title).apply(title_map)   \ntest_df['title'] = test_df['Name'].apply(get_title).apply(title_map)\ntitle_xt = pd.crosstab(titanic_df['title'], titanic_df['Survived'])\ntitle_xt_pct = title_xt.div(title_xt.sum(1).astype(float), axis=0)\n\ntitle_xt_pct.plot(kind='bar', \n                  stacked=True, \n                  title='Survival Rate by title')\nplt.xlabel('title')\nplt.ylabel('Survival Rate')",
      "execution_count": null,
      "outputs": []
    },
    {
      "metadata": {
        "_cell_guid": "7faffa7c-9776-43fb-9c01-786630f237ab",
        "_uuid": "62832857b809b4479fe1685696f98e519f1a4769",
        "trusted": false,
        "collapsed": true
      },
      "cell_type": "code",
      "source": "# drop unnecessary columns, these columns won't be useful in analysis and prediction\ntitanic_df = titanic_df.drop(['PassengerId','Name','Ticket'], axis=1)\ntest_df    = test_df.drop(['Name','Ticket'], axis=1)",
      "execution_count": null,
      "outputs": []
    },
    {
      "metadata": {
        "_cell_guid": "b1441ec8-7d77-4a69-990b-26e0b1e89b68",
        "_uuid": "28bf37bc49c4a090d204ef2aea38a6d6e75e9b85",
        "trusted": false,
        "collapsed": true
      },
      "cell_type": "code",
      "source": "# Embarked\n\n# only in titanic_df, fill the two missing values with the most occurred value, which is \"S\".\ntitanic_df[\"Embarked\"] = titanic_df[\"Embarked\"].fillna(\"S\")\n\n# plot\n#sns.factorplot('Embarked','Survived', data=titanic_df,size=4,aspect=3)\n\n#fig, (axis1,axis2,axis3) = plt.subplots(1,3,figsize=(15,5))\n\n# sns.factorplot('Embarked',data=titanic_df,kind='count',order=['S','C','Q'],ax=axis1)\n# sns.factorplot('Survived',hue=\"Embarked\",data=titanic_df,kind='count',order=[1,0],ax=axis2)\n#sns.countplot(x='Embarked', data=titanic_df, ax=axis1)\n#sns.countplot(x='Survived', hue=\"Embarked\", data=titanic_df, order=[1,0], ax=axis2)\n\n# group by embarked, and get the mean for survived passengers for each value in Embarked\n#embark_perc = titanic_df[[\"Embarked\", \"Survived\"]].groupby(['Embarked'],as_index=False).mean()\n#sns.barplot(x='Embarked', y='Survived', data=embark_perc,order=['S','C','Q'],ax=axis3)\n\n# Either to consider Embarked column in predictions,\n# and remove \"S\" dummy variable, \n# and leave \"C\" & \"Q\", since they seem to have a good rate for Survival.\n\n# OR, don't create dummy variables for Embarked column, just drop it, \n# because logically, Embarked doesn't seem to be useful in prediction.\n\nembark_dummies_titanic  = pd.get_dummies(titanic_df['Embarked'])\nembark_dummies_titanic.drop(['S'], axis=1, inplace=True)\n#print(embark_dummies_titanic)\n\nembark_dummies_test  = pd.get_dummies(test_df['Embarked'])\nembark_dummies_test.drop(['S'], axis=1, inplace=True)\n\ntitanic_df = titanic_df.join(embark_dummies_titanic)\n#print(titanic_df)\ntest_df    = test_df.join(embark_dummies_test)\n\ntitanic_df.drop(['Embarked'], axis=1,inplace=True)\ntest_df.drop(['Embarked'], axis=1,inplace=True)",
      "execution_count": null,
      "outputs": []
    },
    {
      "metadata": {
        "_cell_guid": "b1a9e2e1-1718-4e6a-b037-a2c1eca1c003",
        "_uuid": "4e04b140d22c27502aeb627ce537e987e200b43f",
        "trusted": false,
        "collapsed": true
      },
      "cell_type": "code",
      "source": "## Fare\n\n# only for test_df, since there is a missing \"Fare\" values\ntest_df[\"Fare\"].fillna(test_df[\"Fare\"].median(), inplace=True)\n\ntitanic_df.loc[ titanic_df['Fare'] <= 7.91, 'Fare'] = 0\ntitanic_df.loc[(titanic_df['Fare'] > 7.91) & (titanic_df['Fare'] <= 14.454), 'Fare'] = 1\ntitanic_df.loc[(titanic_df['Fare'] > 14.454) & (titanic_df['Fare'] <= 31), 'Fare'] = 2\ntitanic_df.loc[ titanic_df['Fare'] > 31, 'Fare'] = 3\ntest_df.loc[ test_df['Fare'] <= 7.91, 'Fare'] = 0\ntest_df.loc[(test_df['Fare'] > 7.91) & (test_df['Fare'] <= 14.454), 'Fare'] = 1\ntest_df.loc[(test_df['Fare'] > 14.454) & (test_df['Fare'] <= 31), 'Fare'] = 2\ntest_df.loc[test_df['Fare'] > 31, 'Fare'] = 3\n\n# convert from float to int\ntitanic_df['Fare'] = titanic_df['Fare'].astype(int)\ntest_df['Fare']    = test_df['Fare'].astype(int)\n\n\n# get fare for survived & didn't survive passengers \n#fare_not_survived = titanic_df[\"Fare\"][titanic_df[\"Survived\"] == 0]\n#fare_survived     = titanic_df[\"Fare\"][titanic_df[\"Survived\"] == 1]\n\n# get average and std for fare of survived/not survived passengers\n#avgerage_fare = DataFrame([fare_not_survived.mean(), fare_survived.mean()])\n#std_fare      = DataFrame([fare_not_survived.std(), fare_survived.std()])\n\n# plot\n#titanic_df['Fare'].plot(kind='hist', figsize=(15,3),bins=100, xlim=(0,50))\n\n#avgerage_fare.index.names = std_fare.index.names = [\"Survived\"]\n#avgerage_fare.plot(yerr=std_fare,kind='bar',legend=False)",
      "execution_count": null,
      "outputs": []
    },
    {
      "metadata": {
        "_cell_guid": "61368d9a-11a9-f246-99e9-3651c12251c4",
        "_uuid": "ee6870268c2e4159a5fdfe04f78851521c440b84",
        "trusted": false,
        "collapsed": true
      },
      "cell_type": "code",
      "source": "# Age impute\n\ntitanic_df['Age'] = titanic_df.groupby(['Pclass'])['Age'].transform(lambda x: x.fillna(x.mean()))\ntest_df['Age'] = test_df.groupby(['Pclass'])['Age'].transform(lambda x: x.fillna(x.mean()))",
      "execution_count": null,
      "outputs": []
    },
    {
      "metadata": {
        "_cell_guid": "22ab0b38-6285-4d65-bb3e-dc923caed94b",
        "_uuid": "988c1ff005237a59945e130d0b0566aacca82dfd",
        "trusted": false,
        "collapsed": true
      },
      "cell_type": "code",
      "source": "# Age \n\n#fig, (axis1,axis2) = plt.subplots(1,2,figsize=(15,4))\n#axis1.set_title('Original Age values - Titanic')\n#axis2.set_title('New Age values - Titanic')\n\n# axis3.set_title('Original Age values - Test')\n# axis4.set_title('New Age values - Test')\n\n# get average, std, and number of NaN values in titanic_df\n#average_age_titanic   = titanic_df[\"Age\"].mean()\n#std_age_titanic       = titanic_df[\"Age\"].std()\n#count_nan_age_titanic = titanic_df[\"Age\"].isnull().sum()\n\n# get average, std, and number of NaN values in test_df\n#average_age_test   = test_df[\"Age\"].mean()\n#std_age_test       = test_df[\"Age\"].std()\n#count_nan_age_test = test_df[\"Age\"].isnull().sum()\n\n# generate random numbers between (mean - std) & (mean + std)\n#rand_1 = np.random.randint(average_age_titanic - std_age_titanic, average_age_titanic + std_age_titanic, size = count_nan_age_titanic)\n#rand_2 = np.random.randint(average_age_test - std_age_test, average_age_test + std_age_test, size = count_nan_age_test)\n\n# plot original Age values\n# NOTE: drop all null values, and convert to int\n#titanic_df['Age'].dropna().astype(int).hist(bins=70, ax=axis1)\n# test_df['Age'].dropna().astype(int).hist(bins=70, ax=axis1)\n\n# fill NaN values in Age column with random values generated\n#titanic_df[\"Age\"][np.isnan(titanic_df[\"Age\"])] = rand_1\n#test_df[\"Age\"][np.isnan(test_df[\"Age\"])] = rand_2\n\n# convert from float to int\ntitanic_df['Age'] = titanic_df['Age'].astype(int)\ntest_df['Age']    = test_df['Age'].astype(int)\n\ntitanic_df.loc[ titanic_df['Age'] <= 16, 'Age'] = 0\ntitanic_df.loc[(titanic_df['Age'] > 16) & (titanic_df['Age'] <= 32), 'Age'] = 1\ntitanic_df.loc[(titanic_df['Age'] > 32) & (titanic_df['Age'] <= 48), 'Age'] = 2\ntitanic_df.loc[(titanic_df['Age'] > 48) & (titanic_df['Age'] <= 64), 'Age'] = 3\ntitanic_df.loc[(titanic_df['Age'] > 64), 'Age'] = 4\n\ntest_df.loc[ test_df['Age'] <= 16, 'Age'] = 0\ntest_df.loc[(test_df['Age'] > 16) & (test_df['Age'] <= 32), 'Age'] = 1\ntest_df.loc[(test_df['Age'] > 32) & (test_df['Age'] <= 48), 'Age'] = 2\ntest_df.loc[(test_df['Age'] > 48) & (test_df['Age'] <= 64), 'Age'] = 3\ntest_df.loc[(test_df['Age'] > 64), 'Age'] = 4\n        \n# plot new Age Values\n#titanic_df['Age'].hist(bins=70, ax=axis2)\n# test_df['Age'].hist(bins=70, ax=axis4)",
      "execution_count": null,
      "outputs": []
    },
    {
      "metadata": {
        "_cell_guid": "952009ab-555c-46f8-b419-182f2de39ca0",
        "_uuid": "ced0c7134a66f364c0eb92c5a7767a7b3b46b975",
        "trusted": false,
        "collapsed": true
      },
      "cell_type": "code",
      "source": "# .... continue with plot Age column\n\n# peaks for survived/not survived passengers by their age\n#facet = sns.FacetGrid(titanic_df, hue=\"Survived\",aspect=4)\n#facet.map(sns.kdeplot,'Age',shade= True)\n#facet.set(xlim=(0, titanic_df['Age'].max()))\n#facet.add_legend()\n\n# average survived passengers by age\n#fig, axis1 = plt.subplots(1,1,figsize=(18,4))\n#average_age = titanic_df[[\"Age\", \"Survived\"]].groupby(['Age'],as_index=False).mean()\n#sns.barplot(x='Age', y='Survived', data=average_age)",
      "execution_count": null,
      "outputs": []
    },
    {
      "metadata": {
        "_cell_guid": "ef0f0c9d-6b45-4cb0-9026-86b764084398",
        "_uuid": "cd667a5e6b4b8cae83ecc34938939c982cf9c51b",
        "trusted": false,
        "collapsed": true
      },
      "cell_type": "code",
      "source": "# Cabin\n# It has a lot of NaN values, so it won't cause a remarkable impact on prediction\ntitanic_df.drop(\"Cabin\",axis=1,inplace=True)\ntest_df.drop(\"Cabin\",axis=1,inplace=True)",
      "execution_count": null,
      "outputs": []
    },
    {
      "metadata": {
        "_cell_guid": "a89c93bb-e45b-44ce-8dee-430f584f4ed4",
        "_uuid": "bccb93b7b47237899093229b5c0c8595d2db87a9",
        "trusted": false,
        "collapsed": true
      },
      "cell_type": "code",
      "source": "# Family\n\n# Instead of having two columns Parch & SibSp, \n# we can have only one column represent if the passenger had any family member aboard or not,\n# Meaning, if having any family member(whether parent, brother, ...etc) will increase chances of Survival or not.\ntitanic_df['Family'] =  titanic_df[\"Parch\"] + titanic_df[\"SibSp\"]\ntitanic_df['Family'].loc[titanic_df['Family'] > 0] = 1\ntitanic_df['Family'].loc[titanic_df['Family'] == 0] = 0\n\ntest_df['Family'] =  test_df[\"Parch\"] + test_df[\"SibSp\"]\ntest_df['Family'].loc[test_df['Family'] > 0] = 1\ntest_df['Family'].loc[test_df['Family'] == 0] = 0\n\n# drop Parch & SibSp\ntitanic_df = titanic_df.drop(['SibSp','Parch'], axis=1)\ntest_df    = test_df.drop(['SibSp','Parch'], axis=1)\n\n# plot\n#fig, (axis1,axis2) = plt.subplots(1,2,sharex=True,figsize=(10,5))\n\n# sns.factorplot('Family',data=titanic_df,kind='count',ax=axis1)\n#sns.countplot(x='Family', data=titanic_df, order=[1,0], ax=axis1)\n\n# average of survived for those who had/didn't have any family member\n#family_perc = titanic_df[[\"Family\", \"Survived\"]].groupby(['Family'],as_index=False).mean()\n#sns.barplot(x='Family', y='Survived', data=family_perc, order=[1,0], ax=axis2)\n\n#axis1.set_xticklabels([\"With Family\",\"Alone\"], rotation=0)",
      "execution_count": null,
      "outputs": []
    },
    {
      "metadata": {
        "_cell_guid": "23c2f140-1dc0-48cd-a6e1-9786510b2606",
        "_uuid": "67cafdd8c89a07ea7cb7db99aefd9efaee32a834",
        "trusted": false,
        "collapsed": true
      },
      "cell_type": "code",
      "source": "# Sex\n\n# As we see, children(age < ~16) on aboard seem to have a high chances for Survival.\n# So, we can classify passengers as males, females, and child\n#def get_person(passenger):\n    #age,sex = passenger\n    #return 'child' if age < 16 else sex\n    \n#titanic_df['Person'] = titanic_df[['Age','Sex']].apply(get_person,axis=1)\n#test_df['Person']    = test_df[['Age','Sex']].apply(get_person,axis=1)\n\n# No need to use Sex column since we created Person column\n#titanic_df.drop(['Sex'],axis=1,inplace=True)\n#test_df.drop(['Sex'],axis=1,inplace=True)\n\n# create dummy variables for Person column, & drop Male as it has the lowest average of survived passengers\n#person_dummies_titanic  = pd.get_dummies(titanic_df['Person'])\n#person_dummies_titanic.columns = ['Child','Female','Male']\n#person_dummies_titanic.drop(['Male'], axis=1, inplace=True)\n\n#person_dummies_test  = pd.get_dummies(test_df['Person'])\n#print(person_dummies_test)\n#person_dummies_test.columns = ['Child','Female','Male']\n#person_dummies_test.drop(['Male'], axis=1, inplace=True)\n\n#titanic_df = titanic_df.join(person_dummies_titanic)\n#test_df    = test_df.join(person_dummies_test)\n\n#fig, (axis1,axis2) = plt.subplots(1,2,figsize=(10,5))\n\n# sns.factorplot('Person',data=titanic_df,kind='count',ax=axis1)\n#sns.countplot(x='Person', data=titanic_df, ax=axis1)\n\n# average of survived for each Person(male, female, or child)\n#person_perc = titanic_df[[\"Person\", \"Survived\"]].groupby(['Person'],as_index=False).mean()\n#sns.barplot(x='Person', y='Survived', data=person_perc, ax=axis2, order=['male','female','child'])\n\n#titanic_df.drop(['Person'],axis=1,inplace=True)\n#test_df.drop(['Person'],axis=1,inplace=True)\nsexes = sorted(titanic_df['Sex'].unique())\ngenders_mapping = dict(zip(sexes, range(0, len(sexes) + 1)))\ntitanic_df['Sex'] = titanic_df['Sex'].map(genders_mapping).astype(int)\ntest_df['Sex'] = test_df['Sex'].map(genders_mapping).astype(int)",
      "execution_count": null,
      "outputs": []
    },
    {
      "metadata": {
        "_cell_guid": "0f126c1f-74b8-4063-8ac0-f44e6b8fc0bd",
        "_uuid": "cb57cfe114b18cfcacb0ea49d9e50e51a7a09a04",
        "trusted": false,
        "collapsed": true
      },
      "cell_type": "code",
      "source": "# Pclass\n\n# sns.factorplot('Pclass',data=titanic_df,kind='count',order=[1,2,3])\n#sns.factorplot('Pclass','Survived',order=[1,2,3], data=titanic_df,size=5)\n\n# create dummy variables for Pclass column, & drop 3rd class as it has the lowest average of survived passengers\n#pclass_dummies_titanic  = pd.get_dummies(titanic_df['Pclass'])\n#pclass_dummies_titanic.columns = ['Class_1','Class_2','Class_3']\n#pclass_dummies_titanic.drop(['Class_3'], axis=1, inplace=True)\n\n#pclass_dummies_test  = pd.get_dummies(test_df['Pclass'])\n#pclass_dummies_test.columns = ['Class_1','Class_2','Class_3']\n#pclass_dummies_test.drop(['Class_3'], axis=1, inplace=True)\n\n#titanic_df.drop(['Pclass'],axis=1,inplace=True)\n#test_df.drop(['Pclass'],axis=1,inplace=True)\n\n#titanic_df = titanic_df.join(pclass_dummies_titanic)\n#test_df    = test_df.join(pclass_dummies_test)\ntitanic_df['age_class'] = titanic_df['Age'] * titanic_df['Pclass']\ntest_df['age_class'] = test_df['Age'] * test_df['Pclass']",
      "execution_count": null,
      "outputs": []
    },
    {
      "metadata": {
        "_cell_guid": "d2e1d7ee-6496-0b36-c5ea-10ffbd67804a",
        "_uuid": "931bfab81e4c18b8ffa9f644876a82b60c280d45",
        "trusted": false,
        "collapsed": true
      },
      "cell_type": "code",
      "source": "titanic_df.head()\ntest_df.head()",
      "execution_count": null,
      "outputs": []
    },
    {
      "metadata": {
        "_cell_guid": "5214295a-19cf-44b5-abe2-8989a0ed9670",
        "_uuid": "2ddab6a33569317f524eec4e2029aa6d6c878e35",
        "trusted": false,
        "collapsed": true
      },
      "cell_type": "code",
      "source": "# define training and testing sets\n\nX_train = titanic_df.drop(\"Survived\",axis=1)\nY_train = titanic_df[\"Survived\"]\nX_test  = test_df.drop(\"PassengerId\",axis=1).copy()",
      "execution_count": null,
      "outputs": []
    },
    {
      "metadata": {
        "_cell_guid": "2b5424c0-196f-4d23-b1b8-1b10ac27be10",
        "_uuid": "b4313df420d8aff84386f47f35fdcb3f6ed22956",
        "trusted": false,
        "collapsed": true
      },
      "cell_type": "code",
      "source": "# Logistic Regression\n\n#logreg = LogisticRegression()\n\n#logreg.fit(X_train, Y_train)\n\n#Y_pred = logreg.predict(X_test)\n\n#logreg.score(X_train, Y_train)",
      "execution_count": null,
      "outputs": []
    },
    {
      "metadata": {
        "_cell_guid": "a0adb6b8-5130-1c6c-2788-5ae6137c6701",
        "_uuid": "682e6c36f910ccb3bd601d7780d0e24b8dca29b2",
        "trusted": false,
        "collapsed": true
      },
      "cell_type": "code",
      "source": "",
      "execution_count": null,
      "outputs": []
    },
    {
      "metadata": {
        "_cell_guid": "74988880-7f9e-45f4-b6b7-f7fd43a63f95",
        "_uuid": "3bf8a5e7e96772f5f928e7adc9e9f7e0f8fe0844",
        "trusted": false,
        "collapsed": true
      },
      "cell_type": "code",
      "source": "##Support Vector Machines\n\n#svc = SVC()\n\n#svc.fit(X_train, Y_train)\n\n#Y_pred_4 = svc.predict(X_test)\n\n#svc.score(X_train, Y_train)",
      "execution_count": null,
      "outputs": []
    },
    {
      "metadata": {
        "_cell_guid": "dddba12b-e2c4-1b45-c77c-6d96f41e6d39",
        "_uuid": "696bd52e0785993727a85cc15b23fc115df208fb",
        "trusted": false,
        "collapsed": true
      },
      "cell_type": "code",
      "source": "#grid_1 = { \"n_estimators\"      : [100],\n#               \"criterion\"         : [\"gini\", \"entropy\"],\n#               \"max_features\"      : ['sqrt','log2',0.2,0.5,0.8],\n#               \"max_depth\"         : [3,4,6,10],\n#               \"min_samples_split\" : [2, 5, 20,50] }\n#RF=RandomForestClassifier()\n#grid_search = sklearn.model_selection.GridSearchCV(RF, grid_1, n_jobs=-1, cv=5)\n#grid_search.fit(X_train, Y_train)\n#grid_search.best_params_",
      "execution_count": null,
      "outputs": []
    },
    {
      "metadata": {
        "_cell_guid": "0f8b05ff-c21e-4e0e-975d-21af19c6b6b3",
        "_uuid": "8af14a016cb7c658be1021b535416f689aed2460",
        "trusted": false,
        "collapsed": true
      },
      "cell_type": "code",
      "source": "# Random Forests\n\nrandom_forest = RandomForestClassifier(n_estimators=100)\n#random_forest = RandomForestClassifier(n_estimators=100, criterion='entropy', max_depth=10, max_features='sqrt', min_samples_split=5)\n\nrandom_forest.fit(X_train, Y_train)\n\nY_pred_1 = random_forest.predict(X_test)\n\nrandom_forest.score(X_train, Y_train)",
      "execution_count": null,
      "outputs": []
    },
    {
      "metadata": {
        "_cell_guid": "66bc13ea-5bfa-d663-4849-8e77dc3e2516",
        "_uuid": "6171989f799807ce609c842f1719022495d7e686",
        "trusted": false,
        "collapsed": true
      },
      "cell_type": "code",
      "source": "#grid_2 = { \"loss\"          : [\"deviance\",\"exponential\"],\n #              \"n_estimators\"  : [100],\n #             \"max_features\"      : ['sqrt','log2',0.2,0.5,0.8]}\n#GB=GradientBoostingClassifier()\n#grid_search = sklearn.model_selection.GridSearchCV(GB, grid_2, n_jobs=-1, cv=5)\n#grid_search.fit(X_train, Y_train)\n#grid_search.best_params_",
      "execution_count": null,
      "outputs": []
    },
    {
      "metadata": {
        "_cell_guid": "bf3bf550-9560-5f59-de97-91beaacebff8",
        "_uuid": "4a0d6d61c5a7c6192459bb9e08a81989220b34f7",
        "trusted": false,
        "collapsed": true
      },
      "cell_type": "code",
      "source": "#gradient_boost = GradientBoostingClassifier(n_estimators=100,loss='exponential',max_features='log2')\ngradient_boost = GradientBoostingClassifier(n_estimators=100)\ngradient_boost.fit(X_train, Y_train)\n\nY_pred_2 = gradient_boost.predict(X_test)\n\ngradient_boost.score(X_train, Y_train)",
      "execution_count": null,
      "outputs": []
    },
    {
      "metadata": {
        "_cell_guid": "e12aa649-41af-0211-3810-b312dbd1ed5a",
        "_uuid": "2bccb4fc4b13f053e9867c029dc558cad6c804a8",
        "trusted": false,
        "collapsed": true
      },
      "cell_type": "code",
      "source": "#grid_3 = { \"n_estimators\" : [100],\n              # \"criterion\"         : [\"gini\", \"entropy\"],\n             #  \"max_features\"      : ['sqrt','log2',0.2,0.5,0.8],\n             #  \"max_depth\"         : [4,7,10],\n            #   \"min_samples_split\" : [2, 5, 10] }\n#ET=ExtraTreesClassifier()\n#grid_search = sklearn.model_selection.GridSearchCV(ET, grid_3, n_jobs=-1, cv=5)\n#grid_search.fit(X_train, Y_train)\n#grid_search.best_params_",
      "execution_count": null,
      "outputs": []
    },
    {
      "metadata": {
        "_cell_guid": "a6d7c3cc-3873-b6b9-a034-32e02ddfa9b5",
        "_uuid": "87faa538bf9eec8952e06372ec674972a0fb28b6",
        "trusted": false,
        "collapsed": true
      },
      "cell_type": "code",
      "source": "#extra_tree = ExtraTreesClassifier(n_estimators=100,criterion='gini',max_depth=10,max_features='log2',min_samples_split=10)\nextra_tree = ExtraTreesClassifier(n_estimators=100)\nextra_tree.fit(X_train, Y_train)\n\nY_pred_3 = extra_tree.predict(X_test)\n\nextra_tree.score(X_train, Y_train)",
      "execution_count": null,
      "outputs": []
    },
    {
      "metadata": {
        "_cell_guid": "94c948b1-d9e9-e54e-18bb-aeeb87d8c3dc",
        "_uuid": "7f6c6f384fd78058e30d71ad3d3b4581a36c1108",
        "trusted": false,
        "collapsed": true
      },
      "cell_type": "code",
      "source": "#grid_4 = { \"n_estimators\"      : [100,150,200],\n               #\"algorithm\"  : ['SAMME','SAMME.R'] }\n#AB=AdaBoostClassifier()\n#grid_search = sklearn.model_selection.GridSearchCV(AB, grid_4, n_jobs=-1, cv=5)\n#grid_search.fit(X_train, Y_train)\n#grid_search.best_params_",
      "execution_count": null,
      "outputs": []
    },
    {
      "metadata": {
        "_cell_guid": "50712c12-8154-5ccc-8bdf-daf9c66a9dd8",
        "_uuid": "ecf645727a2b4cc2bfd09afa2a307d3e70a34a62",
        "trusted": false,
        "collapsed": true
      },
      "cell_type": "code",
      "source": "#ada_boost = AdaBoostClassifier(n_estimators=100,algorithm='SAMME')\n\n#ada_boost.fit(X_train, Y_train)\n\n#Y_pred_4 = ada_boost.predict(X_test)\n\n#ada_boost.score(X_train, Y_train)",
      "execution_count": null,
      "outputs": []
    },
    {
      "metadata": {
        "_cell_guid": "5ca46421-0628-b485-f28d-110fff9ba013",
        "_uuid": "813d5228d1da76e76c7577a0cd5003a50a573b51",
        "trusted": false,
        "collapsed": true
      },
      "cell_type": "code",
      "source": "#grid_5 = { \"n_neighbors\"      : [3,5,7],\n               #\"weights\"  : ['uniform','distance'] }\n#KNN=sklearn.neighbors.KNeighborsClassifier()\n#grid_search = sklearn.model_selection.GridSearchCV(KNN, grid_5, n_jobs=-1, cv=5)\n#grid_search.fit(X_train, Y_train)\n#grid_search.best_params_",
      "execution_count": null,
      "outputs": []
    },
    {
      "metadata": {
        "_cell_guid": "7e04962c-e13b-bc77-8475-b858dfaf1205",
        "_uuid": "ac0188c6cd480176651724c68f81e3b1cda38616",
        "trusted": false,
        "collapsed": true
      },
      "cell_type": "code",
      "source": "#knn = sklearn.neighbors.KNeighborsClassifier(n_neighbors = 7,weights='distance')\n#knn.fit(X_train, Y_train)\n#Y_pred_5 = knn.predict(X_test)\n#acc_knn = round(knn.score(X_train, Y_train) * 100, 2)\n#acc_knn",
      "execution_count": null,
      "outputs": []
    },
    {
      "metadata": {
        "_cell_guid": "9bf3b1ac-0189-d1eb-b40c-fb5c04e77149",
        "_uuid": "45c8003dc53280c5a4ad35c0a543b0d5772e341d",
        "trusted": false,
        "collapsed": true
      },
      "cell_type": "code",
      "source": "#Y_pred = np.rint((Y_pred_1 + Y_pred_2 + Y_pred_3)/3).astype(int)\nY_pred = Y_pred_1",
      "execution_count": null,
      "outputs": []
    },
    {
      "metadata": {
        "_cell_guid": "02024c86-84c9-b44a-855e-0bcc5235c8eb",
        "_uuid": "b5f3c843d786001b1d73a6c0d4ee29911b48d325",
        "trusted": false,
        "collapsed": true
      },
      "cell_type": "code",
      "source": "Y_pred",
      "execution_count": null,
      "outputs": []
    },
    {
      "metadata": {
        "_cell_guid": "499918bf-8ba4-4a79-b8d8-4c26ece9a3b8",
        "_uuid": "3cf5cd67dc9f4b984a0c7ce0887548a77f27530b",
        "trusted": false,
        "collapsed": true
      },
      "cell_type": "code",
      "source": "##knn = KNeighborsClassifier(n_neighbors = 3)\n\n#knn.fit(X_train, Y_train)\n\n#Y_pred = knn.predict(X_test)\n\n#knn.score(X_train, Y_train)",
      "execution_count": null,
      "outputs": []
    },
    {
      "metadata": {
        "_cell_guid": "15801b79-73c3-4fa4-b8be-21d32645a403",
        "_uuid": "aaae4b481777eabcf4399e54143e34b37ef4d325",
        "trusted": false,
        "collapsed": true
      },
      "cell_type": "code",
      "source": "#Gaussian Naive Bayes\n\n#gaussian = GaussianNB()\n\n#gaussian.fit(X_train, Y_train)\n\n#Y_pred = gaussian.predict(X_test)\n\n#gaussian.score(X_train, Y_train)",
      "execution_count": null,
      "outputs": []
    },
    {
      "metadata": {
        "_cell_guid": "bf28672b-9264-4d5a-95f8-47effc0e2e4c",
        "_uuid": "96012c9c5c8076da0d79d20bb1cc855f9d3c5525",
        "trusted": false,
        "collapsed": true
      },
      "cell_type": "code",
      "source": "submission = pd.DataFrame({\n        \"PassengerId\": test_df[\"PassengerId\"],\n        \"Survived\": Y_pred\n    })\nsubmission.to_csv('titanic.csv', index=False)",
      "execution_count": null,
      "outputs": []
    }
  ],
  "metadata": {
    "_change_revision": 0,
    "_is_fork": false,
    "kernelspec": {
      "display_name": "Python 3",
      "language": "python",
      "name": "python3"
    },
    "language_info": {
      "codemirror_mode": {
        "name": "ipython",
        "version": 3
      },
      "file_extension": ".py",
      "mimetype": "text/x-python",
      "name": "python",
      "nbconvert_exporter": "python",
      "pygments_lexer": "ipython3",
      "version": "3.6.0"
    }
  },
  "nbformat": 4,
  "nbformat_minor": 1
}